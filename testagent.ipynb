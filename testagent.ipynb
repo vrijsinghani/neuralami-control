{
 "cells": [
  {
   "cell_type": "code",
   "execution_count": null,
   "metadata": {},
   "outputs": [
    {
     "ename": "",
     "evalue": "",
     "output_type": "error",
     "traceback": [
      "\u001b[1;31mThe kernel failed to start due to the missing module 'packaging'. Consider installing this module.\n",
      "\u001b[1;31mClick <a href='https://aka.ms/kernelFailuresMissingModule'>here</a> for more info."
     ]
    }
   ],
   "source": [
    "from langchain_core.callbacks import BaseCallbackHandler\n",
    "from langchain.agents import AgentExecutor, create_react_agent\n",
    "from langchain_core.tools import tool\n",
    "from common.utils import get_llm  # Import the get_llm function\n",
    "\n",
    "class DetailedCallbackHandler(BaseCallbackHandler):\n",
    "    def on_tool_start(self, serialized, inputs, **kwargs):\n",
    "        print(f\"🛠️ Tool Started: {serialized.get('name')}\")\n",
    "        print(f\"Tool Inputs: {inputs}\")\n",
    "\n",
    "    def on_tool_end(self, output, **kwargs):\n",
    "        print(f\"🏁 Tool Completed. Output: {output}\")\n",
    "\n",
    "    def on_chain_start(self, serialized, inputs, **kwargs):\n",
    "        print(f\"🔗 Chain Started: {serialized.get('name')}\")\n",
    "\n",
    "    def on_chain_end(self, outputs, **kwargs):\n",
    "        print(f\"✅ Chain Completed. Outputs: {outputs}\")\n",
    "\n",
    "    def on_agent_action(self, action, **kwargs):\n",
    "        print(f\"🤖 Agent Action: {action.tool}\")\n",
    "\n",
    "@tool\n",
    "def calculator(expression: str) -> float:\n",
    "    \"\"\"Evaluates a mathematical expression.\"\"\"\n",
    "    return eval(expression)\n",
    "\n",
    "@tool\n",
    "def greeting(name: str) -> str:\n",
    "    \"\"\"Returns a greeting for a given name.\"\"\"\n",
    "    return f\"Hello, {name}!\"\n"
   ]
  },
  {
   "cell_type": "code",
   "execution_count": null,
   "metadata": {},
   "outputs": [],
   "source": [
    "\n",
    "# Get LLM instance using the utility function\n",
    "llm, token_counter = get_llm(model_name=\"gpt-3.5-turbo\", temperature=0)\n",
    "tools = [calculator, greeting]\n",
    "\n",
    "agent = create_react_agent(llm, tools)\n",
    "agent_executor = AgentExecutor(agent=agent, tools=tools)\n",
    "\n",
    "callback_handler = DetailedCallbackHandler()\n",
    "\n",
    "result = agent_executor.invoke(\n",
    "    {\"input\": \"What is 5 + 3? Then greet Alice.\"},\n",
    "    {\"callbacks\": [callback_handler, token_counter]}  # Added token_counter to track token usage\n",
    ")\n",
    "\n",
    "print(\"\\nFinal Result:\", result)\n",
    "print(f\"\\nToken Usage - Input: {token_counter.input_tokens}, Output: {token_counter.output_tokens}\")"
   ]
  }
 ],
 "metadata": {
  "kernelspec": {
   "display_name": "Python 3",
   "language": "python",
   "name": "python3"
  },
  "language_info": {
   "name": "python",
   "version": "3.10.12"
  }
 },
 "nbformat": 4,
 "nbformat_minor": 2
}
